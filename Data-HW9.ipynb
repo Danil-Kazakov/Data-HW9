{
  "cells": [
    {
      "cell_type": "markdown",
      "metadata": {
        "id": "view-in-github",
        "colab_type": "text"
      },
      "source": [
        "<a href=\"https://colab.research.google.com/github/Danil-Kazakov/Data-HW9/blob/main/Data-HW9.ipynb\" target=\"_parent\"><img src=\"https://colab.research.google.com/assets/colab-badge.svg\" alt=\"Open In Colab\"/></a>"
      ]
    },
    {
      "cell_type": "code",
      "execution_count": null,
      "metadata": {
        "id": "9TMUmtI1X-kM"
      },
      "outputs": [],
      "source": [
        "import tensorflow as tf\n",
        "from tensorflow.keras.datasets import fashion_mnist\n",
        "from tensorflow.keras.models import Sequential\n",
        "from tensorflow.keras.layers import Dense, Flatten, Conv2D, MaxPooling2D, Dropout\n",
        "from tensorflow.keras.optimizers import Adam\n",
        "from tensorflow.keras.utils import to_categorical"
      ]
    },
    {
      "cell_type": "markdown",
      "metadata": {
        "id": "rMsIaIHzYfF1"
      },
      "source": [
        "Підготовка даних та моделi"
      ]
    },
    {
      "cell_type": "code",
      "execution_count": null,
      "metadata": {
        "id": "P4NLx4l8YO_J"
      },
      "outputs": [],
      "source": [
        "(x_train, y_train), (x_test, y_test) = fashion_mnist.load_data()\n",
        "\n",
        "x_train = x_train.reshape(x_train.shape[0], 28, 28, 1).astype('float32') / 255\n",
        "x_test = x_test.reshape(x_test.shape[0], 28, 28, 1).astype('float32') / 255\n",
        "\n",
        "y_train = to_categorical(y_train, 10)\n",
        "y_test = to_categorical(y_test, 10)\n",
        "\n",
        "model = Sequential()\n",
        "\n",
        "model.add(Conv2D(32, (3, 3), activation='relu', input_shape=(28, 28, 1)))\n",
        "model.add(MaxPooling2D((2, 2)))\n",
        "model.add(Dropout(0.25))\n",
        "\n",
        "model.add(Conv2D(64, (3, 3), activation='relu'))\n",
        "model.add(MaxPooling2D((2, 2)))\n",
        "model.add(Dropout(0.25))\n",
        "\n",
        "model.add(Conv2D(128, (3, 3), activation='relu'))\n",
        "model.add(MaxPooling2D((2, 2)))\n",
        "model.add(Dropout(0.25))\n",
        "\n",
        "model.add(Flatten())\n",
        "\n",
        "model.add(Dense(128, activation='relu'))\n",
        "model.add(Dropout(0.5))\n",
        "\n",
        "model.add(Dense(10, activation='softmax'))\n"
      ]
    },
    {
      "cell_type": "markdown",
      "metadata": {
        "id": "DO1QHilbjgeJ"
      },
      "source": [
        "Навчання та оцінка моделі"
      ]
    },
    {
      "cell_type": "code",
      "execution_count": null,
      "metadata": {
        "colab": {
          "background_save": true,
          "base_uri": "https://localhost:8080/"
        },
        "id": "bL9m6ykKjglK",
        "outputId": "64cffbce-9955-4922-b881-e69cb9c62478"
      },
      "outputs": [
        {
          "name": "stdout",
          "output_type": "stream",
          "text": [
            "Epoch 1/20\n",
            "469/469 - 54s - loss: 0.9039 - accuracy: 0.6624 - val_loss: 0.5698 - val_accuracy: 0.7907 - 54s/epoch - 116ms/step\n",
            "Epoch 2/20\n",
            "469/469 - 51s - loss: 0.5963 - accuracy: 0.7861 - val_loss: 0.4830 - val_accuracy: 0.8216 - 51s/epoch - 108ms/step\n",
            "Epoch 3/20\n",
            "469/469 - 51s - loss: 0.5206 - accuracy: 0.8120 - val_loss: 0.4304 - val_accuracy: 0.8379 - 51s/epoch - 109ms/step\n",
            "Epoch 4/20\n",
            "469/469 - 52s - loss: 0.4835 - accuracy: 0.8242 - val_loss: 0.4034 - val_accuracy: 0.8489 - 52s/epoch - 111ms/step\n",
            "Epoch 5/20\n",
            "469/469 - 49s - loss: 0.4489 - accuracy: 0.8376 - val_loss: 0.3809 - val_accuracy: 0.8596 - 49s/epoch - 105ms/step\n",
            "Epoch 6/20\n",
            "469/469 - 50s - loss: 0.4249 - accuracy: 0.8451 - val_loss: 0.3575 - val_accuracy: 0.8661 - 50s/epoch - 107ms/step\n",
            "Epoch 7/20\n",
            "469/469 - 50s - loss: 0.4053 - accuracy: 0.8536 - val_loss: 0.3568 - val_accuracy: 0.8649 - 50s/epoch - 107ms/step\n",
            "Epoch 8/20\n",
            "469/469 - 49s - loss: 0.3964 - accuracy: 0.8561 - val_loss: 0.3412 - val_accuracy: 0.8725 - 49s/epoch - 104ms/step\n",
            "Epoch 9/20\n",
            "469/469 - 52s - loss: 0.3773 - accuracy: 0.8617 - val_loss: 0.3412 - val_accuracy: 0.8752 - 52s/epoch - 110ms/step\n",
            "Epoch 10/20\n",
            "469/469 - 50s - loss: 0.3675 - accuracy: 0.8675 - val_loss: 0.3194 - val_accuracy: 0.8817 - 50s/epoch - 107ms/step\n",
            "Epoch 11/20\n",
            "469/469 - 49s - loss: 0.3593 - accuracy: 0.8707 - val_loss: 0.3180 - val_accuracy: 0.8805 - 49s/epoch - 104ms/step\n",
            "Epoch 12/20\n",
            "469/469 - 50s - loss: 0.3522 - accuracy: 0.8715 - val_loss: 0.3111 - val_accuracy: 0.8833 - 50s/epoch - 106ms/step\n",
            "Epoch 13/20\n",
            "469/469 - 52s - loss: 0.3449 - accuracy: 0.8740 - val_loss: 0.3105 - val_accuracy: 0.8836 - 52s/epoch - 110ms/step\n",
            "Epoch 14/20\n",
            "469/469 - 49s - loss: 0.3388 - accuracy: 0.8757 - val_loss: 0.3094 - val_accuracy: 0.8851 - 49s/epoch - 105ms/step\n",
            "Epoch 15/20\n",
            "469/469 - 49s - loss: 0.3337 - accuracy: 0.8778 - val_loss: 0.3038 - val_accuracy: 0.8887 - 49s/epoch - 104ms/step\n",
            "Epoch 16/20\n",
            "469/469 - 49s - loss: 0.3278 - accuracy: 0.8809 - val_loss: 0.3027 - val_accuracy: 0.8899 - 49s/epoch - 105ms/step\n",
            "Epoch 17/20\n",
            "469/469 - 49s - loss: 0.3233 - accuracy: 0.8810 - val_loss: 0.3048 - val_accuracy: 0.8880 - 49s/epoch - 103ms/step\n",
            "Epoch 18/20\n",
            "469/469 - 50s - loss: 0.3197 - accuracy: 0.8831 - val_loss: 0.2970 - val_accuracy: 0.8914 - 50s/epoch - 107ms/step\n",
            "Epoch 19/20\n",
            "469/469 - 52s - loss: 0.3150 - accuracy: 0.8851 - val_loss: 0.2960 - val_accuracy: 0.8884 - 52s/epoch - 110ms/step\n",
            "Epoch 20/20\n",
            "469/469 - 48s - loss: 0.3118 - accuracy: 0.8853 - val_loss: 0.2963 - val_accuracy: 0.8906 - 48s/epoch - 103ms/step\n",
            "313/313 - 2s - loss: 0.2963 - accuracy: 0.8906 - 2s/epoch - 8ms/step\n",
            "Точність на тестових даних: 89.06%\n"
          ]
        }
      ],
      "source": [
        "model.compile(optimizer=Adam(), loss='categorical_crossentropy', metrics=['accuracy'])\n",
        "\n",
        "history = model.fit(x_train, y_train, validation_data=(x_test, y_test), epochs=20, batch_size=128, verbose=2)\n",
        "\n",
        "test_loss, test_acc = model.evaluate(x_test, y_test, verbose=2)\n",
        "print(f'Точність на тестових даних: {test_acc * 100:.2f}%')\n"
      ]
    }
  ],
  "metadata": {
    "colab": {
      "provenance": [],
      "authorship_tag": "ABX9TyNDk0UfEm/9UPragQP4Toqc",
      "include_colab_link": true
    },
    "kernelspec": {
      "display_name": "Python 3",
      "name": "python3"
    },
    "language_info": {
      "name": "python"
    }
  },
  "nbformat": 4,
  "nbformat_minor": 0
}