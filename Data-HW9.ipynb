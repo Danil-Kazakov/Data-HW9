{
  "cells": [
    {
      "cell_type": "markdown",
      "metadata": {
        "id": "view-in-github",
        "colab_type": "text"
      },
      "source": [
        "<a href=\"https://colab.research.google.com/github/Danil-Kazakov/Data-HW9/blob/main/Data-HW9.ipynb\" target=\"_parent\"><img src=\"https://colab.research.google.com/assets/colab-badge.svg\" alt=\"Open In Colab\"/></a>"
      ]
    },
    {
      "cell_type": "code",
      "execution_count": 5,
      "metadata": {
        "id": "9TMUmtI1X-kM",
        "outputId": "bd0b88ae-30d3-4f70-99c7-70630c4671da",
        "colab": {
          "base_uri": "https://localhost:8080/"
        }
      },
      "outputs": [
        {
          "output_type": "stream",
          "name": "stderr",
          "text": [
            "<ipython-input-5-62b396b6b306>:7: DeprecationWarning: `import kerastuner` is deprecated, please use `import keras_tuner`.\n",
            "  from kerastuner.tuners import RandomSearch\n"
          ]
        }
      ],
      "source": [
        "import tensorflow as tf\n",
        "from tensorflow.keras.datasets import fashion_mnist\n",
        "from tensorflow.keras.models import Sequential\n",
        "from tensorflow.keras.layers import Dense, Flatten, Conv2D, MaxPooling2D, Dropout\n",
        "from tensorflow.keras.optimizers import Adam\n",
        "from tensorflow.keras.utils import to_categorical\n",
        "from kerastuner.tuners import RandomSearch\n"
      ]
    },
    {
      "cell_type": "markdown",
      "metadata": {
        "id": "rMsIaIHzYfF1"
      },
      "source": [
        "Підготовка даних та моделi"
      ]
    },
    {
      "cell_type": "code",
      "execution_count": 6,
      "metadata": {
        "id": "P4NLx4l8YO_J",
        "outputId": "2be06bf2-abf1-4a6d-cead-bf22d6388628",
        "colab": {
          "base_uri": "https://localhost:8080/"
        }
      },
      "outputs": [
        {
          "output_type": "stream",
          "name": "stdout",
          "text": [
            "Downloading data from https://storage.googleapis.com/tensorflow/tf-keras-datasets/train-labels-idx1-ubyte.gz\n",
            "29515/29515 [==============================] - 0s 0us/step\n",
            "Downloading data from https://storage.googleapis.com/tensorflow/tf-keras-datasets/train-images-idx3-ubyte.gz\n",
            "26421880/26421880 [==============================] - 0s 0us/step\n",
            "Downloading data from https://storage.googleapis.com/tensorflow/tf-keras-datasets/t10k-labels-idx1-ubyte.gz\n",
            "5148/5148 [==============================] - 0s 0us/step\n",
            "Downloading data from https://storage.googleapis.com/tensorflow/tf-keras-datasets/t10k-images-idx3-ubyte.gz\n",
            "4422102/4422102 [==============================] - 0s 0us/step\n"
          ]
        }
      ],
      "source": [
        "(x_train, y_train), (x_test, y_test) = fashion_mnist.load_data()\n",
        "\n",
        "x_train = x_train.reshape(x_train.shape[0], 28, 28, 1).astype('float32') / 255\n",
        "x_test = x_test.reshape(x_test.shape[0], 28, 28, 1).astype('float32') / 255\n",
        "\n",
        "y_train = to_categorical(y_train, 10)\n",
        "y_test = to_categorical(y_test, 10)\n",
        "\n",
        "model = Sequential()\n",
        "\n",
        "model.add(Conv2D(32, (3, 3), activation='relu', input_shape=(28, 28, 1)))\n",
        "model.add(MaxPooling2D((2, 2)))\n",
        "model.add(Dropout(0.25))\n",
        "\n",
        "model.add(Conv2D(64, (3, 3), activation='relu'))\n",
        "model.add(MaxPooling2D((2, 2)))\n",
        "model.add(Dropout(0.25))\n",
        "\n",
        "model.add(Conv2D(128, (3, 3), activation='relu'))\n",
        "model.add(MaxPooling2D((2, 2)))\n",
        "model.add(Dropout(0.25))\n",
        "\n",
        "model.add(Flatten())\n",
        "\n",
        "model.add(Dense(128, activation='relu'))\n",
        "model.add(Dropout(0.5))\n",
        "\n",
        "model.add(Dense(10, activation='softmax'))\n"
      ]
    },
    {
      "cell_type": "markdown",
      "metadata": {
        "id": "DO1QHilbjgeJ"
      },
      "source": [
        "Навчання та оцінка моделі"
      ]
    },
    {
      "cell_type": "code",
      "execution_count": 7,
      "metadata": {
        "colab": {
          "base_uri": "https://localhost:8080/"
        },
        "id": "bL9m6ykKjglK",
        "outputId": "8ba609bd-85cb-4740-a015-b5e8ec8a59bc"
      },
      "outputs": [
        {
          "output_type": "stream",
          "name": "stdout",
          "text": [
            "Epoch 1/20\n",
            "469/469 - 54s - loss: 0.9058 - accuracy: 0.6636 - val_loss: 0.5636 - val_accuracy: 0.7918 - 54s/epoch - 115ms/step\n",
            "Epoch 2/20\n",
            "469/469 - 52s - loss: 0.5923 - accuracy: 0.7840 - val_loss: 0.4706 - val_accuracy: 0.8269 - 52s/epoch - 112ms/step\n",
            "Epoch 3/20\n",
            "469/469 - 51s - loss: 0.5137 - accuracy: 0.8170 - val_loss: 0.4317 - val_accuracy: 0.8385 - 51s/epoch - 108ms/step\n",
            "Epoch 4/20\n",
            "469/469 - 53s - loss: 0.4676 - accuracy: 0.8323 - val_loss: 0.4215 - val_accuracy: 0.8450 - 53s/epoch - 113ms/step\n",
            "Epoch 5/20\n",
            "469/469 - 51s - loss: 0.4387 - accuracy: 0.8419 - val_loss: 0.3704 - val_accuracy: 0.8651 - 51s/epoch - 109ms/step\n",
            "Epoch 6/20\n",
            "469/469 - 51s - loss: 0.4182 - accuracy: 0.8516 - val_loss: 0.3596 - val_accuracy: 0.8671 - 51s/epoch - 108ms/step\n",
            "Epoch 7/20\n",
            "469/469 - 51s - loss: 0.4001 - accuracy: 0.8551 - val_loss: 0.3464 - val_accuracy: 0.8687 - 51s/epoch - 108ms/step\n",
            "Epoch 8/20\n",
            "469/469 - 50s - loss: 0.3810 - accuracy: 0.8619 - val_loss: 0.3360 - val_accuracy: 0.8770 - 50s/epoch - 107ms/step\n",
            "Epoch 9/20\n",
            "469/469 - 51s - loss: 0.3723 - accuracy: 0.8663 - val_loss: 0.3322 - val_accuracy: 0.8770 - 51s/epoch - 108ms/step\n",
            "Epoch 10/20\n",
            "469/469 - 50s - loss: 0.3643 - accuracy: 0.8679 - val_loss: 0.3213 - val_accuracy: 0.8799 - 50s/epoch - 106ms/step\n",
            "Epoch 11/20\n",
            "469/469 - 52s - loss: 0.3564 - accuracy: 0.8709 - val_loss: 0.3180 - val_accuracy: 0.8819 - 52s/epoch - 110ms/step\n",
            "Epoch 12/20\n",
            "469/469 - 49s - loss: 0.3454 - accuracy: 0.8732 - val_loss: 0.3188 - val_accuracy: 0.8817 - 49s/epoch - 104ms/step\n",
            "Epoch 13/20\n",
            "469/469 - 49s - loss: 0.3440 - accuracy: 0.8750 - val_loss: 0.3168 - val_accuracy: 0.8832 - 49s/epoch - 105ms/step\n",
            "Epoch 14/20\n",
            "469/469 - 54s - loss: 0.3379 - accuracy: 0.8770 - val_loss: 0.3128 - val_accuracy: 0.8829 - 54s/epoch - 115ms/step\n",
            "Epoch 15/20\n",
            "469/469 - 49s - loss: 0.3312 - accuracy: 0.8797 - val_loss: 0.3123 - val_accuracy: 0.8837 - 49s/epoch - 105ms/step\n",
            "Epoch 16/20\n",
            "469/469 - 49s - loss: 0.3290 - accuracy: 0.8802 - val_loss: 0.3014 - val_accuracy: 0.8890 - 49s/epoch - 105ms/step\n",
            "Epoch 17/20\n",
            "469/469 - 50s - loss: 0.3241 - accuracy: 0.8838 - val_loss: 0.2954 - val_accuracy: 0.8888 - 50s/epoch - 107ms/step\n",
            "Epoch 18/20\n",
            "469/469 - 50s - loss: 0.3204 - accuracy: 0.8833 - val_loss: 0.2977 - val_accuracy: 0.8893 - 50s/epoch - 108ms/step\n",
            "Epoch 19/20\n",
            "469/469 - 53s - loss: 0.3166 - accuracy: 0.8843 - val_loss: 0.2959 - val_accuracy: 0.8904 - 53s/epoch - 113ms/step\n",
            "Epoch 20/20\n",
            "469/469 - 49s - loss: 0.3128 - accuracy: 0.8868 - val_loss: 0.3039 - val_accuracy: 0.8887 - 49s/epoch - 104ms/step\n",
            "313/313 - 2s - loss: 0.3039 - accuracy: 0.8887 - 2s/epoch - 7ms/step\n",
            "Точність на тестових даних: 88.87%\n"
          ]
        }
      ],
      "source": [
        "model.compile(optimizer=Adam(), loss='categorical_crossentropy', metrics=['accuracy'])\n",
        "\n",
        "history = model.fit(x_train, y_train, validation_data=(x_test, y_test), epochs=20, batch_size=128, verbose=2)\n",
        "\n",
        "test_loss, test_acc = model.evaluate(x_test, y_test, verbose=2)\n",
        "print(f'Точність на тестових даних: {test_acc * 100:.2f}%')\n"
      ]
    },
    {
      "cell_type": "code",
      "source": [
        "def build_model(hp):\n",
        "    model = Sequential()\n",
        "    model.add(Dense(hp.Int('units_1', min_value=128, max_value=512, step=128), activation='relu', input_shape=(28 * 28,)))\n",
        "    model.add(Dropout(hp.Float('dropout_1', 0.2, 0.5, step=0.1)))\n",
        "    model.add(Dense(hp.Int('units_2', min_value=128, max_value=512, step=128), activation='relu'))\n",
        "    model.add(Dropout(hp.Float('dropout_2', 0.2, 0.5, step=0.1)))\n",
        "    model.add(Dense(10, activation='softmax'))\n",
        "\n",
        "    model.compile(optimizer=Adam(), loss='categorical_crossentropy', metrics=['accuracy'])\n",
        "    return model\n",
        "\n",
        "tuner = RandomSearch(build_model, objective='val_accuracy', max_trials=5, executions_per_trial=3, directory='my_dir', project_name='fashion_mnist_dense')\n",
        "\n",
        "tuner.search(x_train, y_train, epochs=5, validation_data=(x_test, y_test))\n"
      ],
      "metadata": {
        "id": "YJJDDx8H3ccJ",
        "outputId": "7515164f-37ba-4657-a870-2a4a518687a5",
        "colab": {
          "base_uri": "https://localhost:8080/"
        }
      },
      "execution_count": 11,
      "outputs": [
        {
          "output_type": "stream",
          "name": "stdout",
          "text": [
            "Trial 5 Complete [00h 02m 25s]\n",
            "val_accuracy: 0.8669000069300333\n",
            "\n",
            "Best val_accuracy So Far: 0.8740333318710327\n",
            "Total elapsed time: 00h 16m 34s\n"
          ]
        }
      ]
    }
  ],
  "metadata": {
    "colab": {
      "provenance": [],
      "authorship_tag": "ABX9TyOlOoQTrATsgsj+OQRuSgQ3",
      "include_colab_link": true
    },
    "kernelspec": {
      "display_name": "Python 3",
      "name": "python3"
    },
    "language_info": {
      "name": "python"
    }
  },
  "nbformat": 4,
  "nbformat_minor": 0
}